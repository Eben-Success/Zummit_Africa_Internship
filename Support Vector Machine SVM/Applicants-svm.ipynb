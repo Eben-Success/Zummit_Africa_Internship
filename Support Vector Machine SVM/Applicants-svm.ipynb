{
 "cells": [
  {
   "cell_type": "code",
   "execution_count": null,
   "metadata": {},
   "outputs": [],
   "source": [
    "# import libraries\n",
    "\n"
   ]
  },
  {
   "cell_type": "code",
   "execution_count": null,
   "metadata": {},
   "outputs": [],
   "source": []
  }
 ],
 "metadata": {
  "kernelspec": {
   "display_name": "Python 3.10.5 64-bit (windows store)",
   "language": "python",
   "name": "python3"
  },
  "language_info": {
   "name": "python",
   "version": "3.10.5"
  },
  "orig_nbformat": 4,
  "vscode": {
   "interpreter": {
    "hash": "25c6a217d275c08b73e9cb04a8c2eefd01b62045704a0298ce3dc0c790692b60"
   }
  }
 },
 "nbformat": 4,
 "nbformat_minor": 2
}
